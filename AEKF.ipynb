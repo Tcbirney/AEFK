{
 "cells": [
  {
   "cell_type": "code",
   "execution_count": 1,
   "metadata": {},
   "outputs": [],
   "source": [
    "import numpy as np\n",
    "from matplotlib import pyplot as plt\n",
    "from copy import deepcopy"
   ]
  },
  {
   "cell_type": "code",
   "execution_count": 2,
   "metadata": {},
   "outputs": [],
   "source": [
    "dt = 0.1\n",
    "run_time = 100\n",
    "\n",
    "initial_state = np.array([[0], \n",
    "                        [0], \n",
    "                        [0]])\n",
    "\n",
    "initial_model_uncertainty = np.zeros(shape=(3,3))\n",
    "\n",
    "\n",
    "U = np.array([[0.5, 0], \n",
    "              [0, np.deg2rad(5)]])\n",
    "\n",
    "\n",
    "actual_r = np.array([[0.5, 0, 0], \n",
    "                     [0, 0.5 ,0],\n",
    "                     [0, 0 ,0.5]])\n",
    "\n",
    "\n",
    "ekf_q = np.array([[0.3, 0, 0], \n",
    "                  [0, 0.3 , 0], \n",
    "                  [0,0, 0.3]])\n",
    "\n",
    "\n",
    "ekf_r = np.array([[1, 0, 0], \n",
    "                  [0, 1 ,0],\n",
    "                  [0, 0 ,1]])\n",
    "\n",
    "\n",
    "aekf_sigma_n_avg = 0.1\n",
    "aekf_sigma_v_avg = np.array([[0.5],\n",
    "                             [0.5],\n",
    "                             [0.5]])\n",
    "\n",
    "aekf_sigma_n_ests = [aekf_sigma_n_avg]                             \n",
    "aekf_sigma_v_ests = [aekf_sigma_v_avg]                             \n",
    "\n",
    "\n",
    "l_n_counter = 0\n",
    "l_v_counter = 0\n"
   ]
  },
  {
   "cell_type": "code",
   "execution_count": 3,
   "metadata": {},
   "outputs": [],
   "source": [
    "def actual_next_state(prev_state, u):\n",
    "\n",
    "    v = u[0][0]\n",
    "    w = u[1][0]\n",
    "\n",
    "\n",
    "    theta_d = prev_state[2][0] +w*dt\n",
    "\n",
    "\n",
    "    b = np.array([[dt*np.cos(theta_d), 0],\n",
    "                 [dt*np.sin(theta_d), 0],\n",
    "                 [0, dt]])\n",
    "\n",
    "\n",
    "    next_state = prev_state + b@u\n",
    "    return next_state\n",
    "\n"
   ]
  },
  {
   "cell_type": "markdown",
   "metadata": {},
   "source": [
    "Prediction function returning current prior state estimate and current prior model covariance matrix"
   ]
  },
  {
   "cell_type": "code",
   "execution_count": 4,
   "metadata": {},
   "outputs": [],
   "source": [
    "def ekf_predict(robot_state, robot_input, prev_post_p):\n",
    "\n",
    "\n",
    "    v = robot_input[0][0]\n",
    "    w = robot_input[1][0]\n",
    "    theta_d = robot_state[2][0] +w*dt/2\n",
    "\n",
    "\n",
    "    A_d = np.array([[1, 0, -0.5*v*(dt**2)*np.sin(theta_d)],\n",
    "                    [0, 1, 0.5*v*(dt**2)*np.cos(theta_d)],\n",
    "                    [0, 0, dt]])\n",
    "\n",
    "    Q_d = np.array([[(dt + (v**2)*(dt**3)*(np.sin(theta_d)**2)/3)*ekf_q[0][0], -(v**2)*(dt**3)*np.cos(theta_d)*np.sin(theta_d)/3, -(v)*(dt*2)*np.sin(theta_d)/2],\n",
    "                    [-(v**2)*(dt**3)*np.cos(theta_d)*np.sin(theta_d)/3, (dt + (v**2)*(dt**3)*(np.sin(theta_d)**2)/3)*ekf_q[1][1], (v)*(dt*2)*np.cos(theta_d)/2],\n",
    "                    [-(v)*(dt*2)*np.sin(theta_d)/2, (v)*(dt*2)*np.cos(theta_d)/2, dt*ekf_q[2][2]]])\n",
    "\n",
    "\n",
    "\n",
    "    L = np.array([[np.cos(theta_d), -0.5*v*(dt**2)*np.sin(theta_d)],\n",
    "                  [np.sin(theta_d), 0.5*v*(dt**2)*np.cos(theta_d)],\n",
    "                  [0, dt]])\n",
    "\n",
    "    new_prior_state_est = robot_state + L@robot_input\n",
    "    new_prior_p = A_d@prev_post_p@(A_d.T)+Q_d+ekf_q\n",
    "\n",
    "    # b = np.array([[np.cos(theta_d)*dt,0],\n",
    "    #               [np.sin(theta_d)*dt,0], \n",
    "    #               [0, dt]])\n",
    "\n",
    "    # new_prior_state_est = robot_state + b@robot_input\n",
    "    # new_prior_p = A_d@prev_post_p@(A_d.T)+L@U@(L.T)+q\n",
    "\n",
    "    return new_prior_state_est, new_prior_p"
   ]
  },
  {
   "cell_type": "markdown",
   "metadata": {},
   "source": [
    "Innovation function correcting the prior state estimates and prior model covariance matrices using a measurement function representing gps data of the absolute location of the robot"
   ]
  },
  {
   "cell_type": "code",
   "execution_count": 5,
   "metadata": {},
   "outputs": [],
   "source": [
    "def ekf_innovate(prior_state_est, new_prior_p, Z):\n",
    "\n",
    "    # here new prior p is the value we expect to see from the gps\n",
    "    model_and_measurment_cov = new_prior_p + ekf_r\n",
    "    K = new_prior_p@np.linalg.inv(model_and_measurment_cov)\n",
    "\n",
    "    post_state_est = prior_state_est + K@(Z-prior_state_est)\n",
    "    post_p = [np.eye(3)-K]@new_prior_p\n",
    "\n",
    "    return post_state_est, post_p[0]"
   ]
  },
  {
   "cell_type": "code",
   "execution_count": 6,
   "metadata": {},
   "outputs": [],
   "source": [
    "def ekf(prev_post_state, robot_input, prev_post_p,Z):\n",
    "    \n",
    "    new_prior_state, new_prior_p = ekf_predict(prev_post_state, robot_input, prev_post_p)\n",
    "    return ekf_innovate(new_prior_state, new_prior_p, Z)\n"
   ]
  },
  {
   "cell_type": "code",
   "execution_count": 7,
   "metadata": {},
   "outputs": [],
   "source": [
    "def aekf(robot_state, robot_input, prev_post_p, Z, aekf_sigma_n_avg, aekf_sigma_n_ests, aekf_sigma_v_avg, l_n, l_n_counter):\n",
    "\n",
    "    v = robot_input[0][0]\n",
    "    w = robot_input[1][0]\n",
    "    theta_d = robot_state[2][0] +w*dt/2\n",
    "\n",
    "\n",
    "    A_d = np.array([[1, 0, -0.5*v*(dt**2)*np.sin(theta_d)],\n",
    "                    [0, 1, 0.5*v*(dt**2)*np.cos(theta_d)],\n",
    "                    [0, 0, dt]])\n",
    "\n",
    "    q_bar = np.array([[(dt + (v**2)*(dt**3)*(np.sin(theta_d)**2)/3), -(v**2)*(dt**3)*np.cos(theta_d)*np.sin(theta_d)/3, -(v)*(dt*2)*np.sin(theta_d)/2],\n",
    "                    [-(v**2)*(dt**3)*np.cos(theta_d)*np.sin(theta_d)/3, (dt + (v**2)*(dt**3)*(np.sin(theta_d)**2)/3), (v)*(dt*2)*np.cos(theta_d)/2],\n",
    "                    [-(v)*(dt*2)*np.sin(theta_d)/2, (v)*(dt*2)*np.cos(theta_d)/2, dt]])\n",
    "\n",
    "    Q_d = deepcopy(q_bar)\n",
    "    Q_d[0][0] = Q_d[0][0]*aekf_sigma_n_avg\n",
    "    Q_d[1][1] = Q_d[1][1]*aekf_sigma_n_avg\n",
    "    Q_d[2][2] = Q_d[2][2]*aekf_sigma_n_avg\n",
    "\n",
    "\n",
    "    L = np.array([[np.cos(theta_d), -0.5*v*(dt**2)*np.sin(theta_d)],\n",
    "                  [np.sin(theta_d), 0.5*v*(dt**2)*np.cos(theta_d)],\n",
    "                  [0, dt]])\n",
    "\n",
    "    C = np.eye(3)\n",
    "\n",
    "    new_prior_est = robot_state + L@robot_input\n",
    "    new_prior_p = A_d@prev_post_p@(A_d.T)+Q_d+aekf_sigma_n_avg*np.eye(3)\n",
    "\n",
    "\n",
    "    #start correction process\n",
    "    model_and_measurement_cov = new_prior_p + ekf_r\n",
    "    K = new_prior_p@np.linalg.inv(model_and_measurement_cov)\n",
    "    # models the difference in the actual measurement versus the predicted measurement\n",
    "    # predicted estimate is just the prior state estimate since its gps data\n",
    "    residual = Z-new_prior_est \n",
    "    post_state_est = new_prior_est + K@residual\n",
    "    post_p = [np.identity(3)-K]@new_prior_p\n",
    "\n",
    "\n",
    "    # calculates new sigma_n_est\n",
    "    def get_sigma_n_est():\n",
    "        sigma_n_est = np.zeros(shape = (3, 1), dtype = object)\n",
    "        for i in range(0,3):\n",
    "            sigma_n_i_est = (residual[i][0]**2 - C[i]@A_d@prev_post_p@(A_d.T)@(C[i].T) - aekf_sigma_v_avg[i][0])/(C[i]@q_bar@(C[i].T))\n",
    "            sigma_n_est[i] = max(sigma_n_i_est, 0)\n",
    "\n",
    "        # print(sigma_n_est)\n",
    "        aekf_sigma_n_ests.append(sigma_n_est)\n",
    "\n",
    "    get_sigma_n_est()\n",
    "\n",
    "    if l_n_counter == l_n:\n",
    "\n",
    "        cummulative_estimate = np.array([[0], [0], [0]], dtype = object)\n",
    "        for i in range(min(len(aekf_sigma_n_ests), l_n)):\n",
    "            cummulative_estimate += aekf_sigma_n_ests[-i]\n",
    "        \n",
    "        sigma_n_total = 0\n",
    "        for i in range(3):\n",
    "            sigma_n_total += cummulative_estimate[i][0]\n",
    "\n",
    "        sigma_n_total = sigma_n_total/3\n",
    "        \n",
    "        aekf_sigma_n_avg = sigma_n_total/l_n\n",
    "        l_n_counter =0\n",
    "\n",
    "    l_n_counter += 1\n",
    "\n",
    "    return post_state_est, post_p[0], aekf_sigma_n_avg, l_n_counter"
   ]
  },
  {
   "cell_type": "code",
   "execution_count": 8,
   "metadata": {},
   "outputs": [],
   "source": [
    "def make_noisy(means, covariances):\n",
    "\n",
    "    n = len(means)\n",
    "\n",
    "    noisy_values = np.zeros(shape = (n, 1))\n",
    "    for i in range(n):\n",
    "        noisy_values[i][0] = means[i][0] + np.random.normal(0, covariances[i][i])\n",
    "\n",
    "    return noisy_values\n"
   ]
  },
  {
   "cell_type": "code",
   "execution_count": 9,
   "metadata": {},
   "outputs": [],
   "source": [
    "def get_avg_error(true_x, true_y, est_x, est_y):\n",
    "    \n",
    "    error_distance = []\n",
    "    for i in range(len(true_x)):\n",
    "        delta_x = true_x[i] - est_x[i]\n",
    "        delta_y = true_y[i] - est_y[i]\n",
    "\n",
    "        dist = np.sqrt(delta_x**2 + delta_y**2)\n",
    "        error_distance.append(dist)\n",
    "\n",
    "    avg_error = sum(error_distance)/len(error_distance)\n",
    "    return avg_error"
   ]
  },
  {
   "cell_type": "code",
   "execution_count": 10,
   "metadata": {},
   "outputs": [],
   "source": [
    "xs = [0]\n",
    "ys =[0]\n",
    "\n",
    "no_filter_xs = [0]\n",
    "no_filter_ys =[0]\n",
    "\n",
    "ekf_corrected_xs = [0]\n",
    "ekf_corrected_ys = [0]\n",
    "\n",
    "aekf_corrected_xs = [0]\n",
    "aekf_corrected_ys = [0]\n",
    "\n",
    "prev_actual_state = np.array([[0], \n",
    "                        [0], \n",
    "                        [0]])\n",
    "prev_est_no_filter = np.array([[0], \n",
    "                        [0], \n",
    "                        [0]])\n",
    "ekf_prev_state_est = np.array([[0], \n",
    "                        [0], \n",
    "                        [0]])\n",
    "aekf_prev_state_est = np.array([[0], \n",
    "                        [0], \n",
    "                        [0]])\n",
    "\n",
    "\n",
    "ekf_p = np.zeros(shape=(3,3))\n",
    "aekf_p =np.zeros(shape=(3,3))\n",
    "\n",
    "# constant curve\n",
    "robot_input = np.array([[1],[np.deg2rad(1.5)]])\n",
    "\n",
    "i = 0\n",
    "\n",
    "sigmas = []\n",
    "while i*dt < run_time:\n",
    "\n",
    "\n",
    "    # truth section\n",
    "    next_actual_state = actual_next_state(prev_actual_state, robot_input)\n",
    "    xs.append(next_actual_state[0][0])\n",
    "    ys.append(next_actual_state[1][0])\n",
    "    prev_actual_state = next_actual_state\n",
    "\n",
    "    # using noisy data show what we would get with no filter, opnly estimating using odometric data\n",
    "    noisy_input = make_noisy(robot_input, U)\n",
    "    next_est_no_filter = actual_next_state(prev_est_no_filter, noisy_input)\n",
    "    no_filter_xs.append(next_est_no_filter[0][0])\n",
    "    no_filter_ys.append(next_est_no_filter[1][0])\n",
    "    prev_est_no_filter = next_est_no_filter\n",
    "\n",
    "\n",
    "    noisy_z = make_noisy(prev_actual_state, actual_r)\n",
    "\n",
    "    # ekf section\n",
    "    ekf_prev_state_est, ekf_p = ekf(ekf_prev_state_est, noisy_input, ekf_p, noisy_z)\n",
    "    ekf_corrected_xs.append(ekf_prev_state_est[0][0])\n",
    "    ekf_corrected_ys.append(ekf_prev_state_est[1][0])\n",
    "\n",
    "    # aekf section\n",
    "    aekf_prev_state_est, aekf_p, aekf_sigma_n_avg, l_n_counter = aekf(aekf_prev_state_est, noisy_input, aekf_p, noisy_z, aekf_sigma_n_avg, aekf_sigma_n_ests, aekf_sigma_v_avg, 50, l_n_counter)\n",
    "    aekf_corrected_xs.append(aekf_prev_state_est[0][0])\n",
    "    aekf_corrected_ys.append(aekf_prev_state_est[1][0])\n",
    "    sigmas.append(aekf_sigma_n_avg)\n",
    "\n",
    "    i+=1\n",
    "# plt.plot()\n"
   ]
  },
  {
   "cell_type": "code",
   "execution_count": 11,
   "metadata": {},
   "outputs": [
    {
     "data": {
      "text/plain": [
       "[<matplotlib.lines.Line2D at 0x7f38c714dca0>]"
      ]
     },
     "execution_count": 11,
     "metadata": {},
     "output_type": "execute_result"
    },
    {
     "data": {
      "image/png": "[encoded data removed]",
      "text/plain": [
       "<Figure size 640x480 with 1 Axes>"
      ]
     },
     "metadata": {},
     "output_type": "display_data"
    }
   ],
   "source": [
    "plt.cla()\n",
    "plt.plot(xs, ys, color='k')\n",
    "plt.plot(ekf_corrected_xs, ekf_corrected_ys, color='c')\n",
    "plt.plot(no_filter_xs, no_filter_ys, color = 'b')"
   ]
  },
  {
   "cell_type": "code",
   "execution_count": 12,
   "metadata": {},
   "outputs": [
    {
     "data": {
      "text/plain": [
       "[<matplotlib.lines.Line2D at 0x7f38c700a670>]"
      ]
     },
     "execution_count": 12,
     "metadata": {},
     "output_type": "execute_result"
    },
    {
     "data": {
      "image/png": "[encoded data removed]",
      "text/plain": [
       "<Figure size 640x480 with 1 Axes>"
      ]
     },
     "metadata": {},
     "output_type": "display_data"
    }
   ],
   "source": [
    "plt.cla()\n",
    "plt.plot(xs, ys, color='k')\n",
    "plt.plot(aekf_corrected_xs, aekf_corrected_ys, color='c')\n",
    "plt.plot(no_filter_xs, no_filter_ys, color = 'b')"
   ]
  },
  {
   "cell_type": "code",
   "execution_count": 13,
   "metadata": {},
   "outputs": [
    {
     "data": {
      "text/plain": [
       "1.2174041713314472"
      ]
     },
     "execution_count": 13,
     "metadata": {},
     "output_type": "execute_result"
    }
   ],
   "source": [
    "get_avg_error(xs, ys, ekf_corrected_xs, ekf_corrected_ys)"
   ]
  },
  {
   "cell_type": "code",
   "execution_count": 14,
   "metadata": {},
   "outputs": [
    {
     "data": {
      "text/plain": [
       "0.6388248237404882"
      ]
     },
     "execution_count": 14,
     "metadata": {},
     "output_type": "execute_result"
    }
   ],
   "source": [
    "get_avg_error(xs, ys, aekf_corrected_xs, aekf_corrected_ys)"
   ]
  },
  {
   "cell_type": "code",
   "execution_count": 15,
   "metadata": {},
   "outputs": [
    {
     "data": {
      "text/plain": [
       "[<matplotlib.lines.Line2D at 0x7f38c70c7370>]"
      ]
     },
     "execution_count": 15,
     "metadata": {},
     "output_type": "execute_result"
    },
    {
     "data": {
      "image/png": "[encoded data removed]",
      "text/plain": [
       "<Figure size 640x480 with 1 Axes>"
      ]
     },
     "metadata": {},
     "output_type": "display_data"
    }
   ],
   "source": [
    "plt.plot(sigmas)"
   ]
  },
  {
   "cell_type": "code",
   "execution_count": null,
   "metadata": {},
   "outputs": [],
   "source": []
  }
 ],
 "metadata": {
  "kernelspec": {
   "display_name": "Python 3.8.10 64-bit",
   "language": "python",
   "name": "python3"
  },
  "language_info": {
   "codemirror_mode": {
    "name": "ipython",
    "version": 3
   },
   "file_extension": ".py",
   "mimetype": "text/x-python",
   "name": "python",
   "nbconvert_exporter": "python",
   "pygments_lexer": "ipython3",
   "version": "3.8.10"
  },
  "orig_nbformat": 4,
  "vscode": {
   "interpreter": {
    "hash": "916dbcbb3f70747c44a77c7bcd40155683ae19c65e1c03b4aa3499c5328201f1"
   }
  }
 },
 "nbformat": 4,
 "nbformat_minor": 2
}
